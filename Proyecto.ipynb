{
 "cells": [
  {
   "cell_type": "markdown",
   "metadata": {},
   "source": [
    "# **HABILIDADES DIGITALES INTELIGENCIA ARTIFICIAL**\n",
    "\n",
    "- **Fuente de datos**: *[Link datos](https://www.datos.gov.co/d/yfdv-t4bc)*\n",
    "\n",
    "- **Intro**: Información relacionada con aspirantes y beneficiarios de un programa estatal colombiano de formación digital, que utiliza diferentes plataformas educativas para promover las habilidades digitales. \n",
    "\n",
    "- **Objetivo Principal**: Identificar las plataformas educativas más utilizadas por los aspirantes y beneficiarios, analizar la distribución por género y edad, y relacionar estos datos con su ubicación geográfica (municipio), con el fin de obtener una visión integral del impacto del programa de formación digital."
   ]
  },
  {
   "cell_type": "markdown",
   "metadata": {},
   "source": []
  }
 ],
 "metadata": {
  "kernelspec": {
   "display_name": "Python 3",
   "language": "python",
   "name": "python3"
  },
  "language_info": {
   "name": "python",
   "version": "3.9.6"
  },
  "orig_nbformat": 4
 },
 "nbformat": 4,
 "nbformat_minor": 2
}
