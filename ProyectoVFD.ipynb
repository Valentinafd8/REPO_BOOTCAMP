{
 "cells": [
  {
   "cell_type": "markdown",
   "metadata": {},
   "source": [
    "# **HABILIDADES DIGITALES INTELIGENCIA ARTIFICIAL**\n",
    "\n",
    "- **Fuente de datos**: *[Link datos](https://www.datos.gov.co/d/yfdv-t4bc)*\n",
    "\n",
    "- **Intro**: Información relacionada con aspirantes y beneficiarios de un programa estatal colombiano de formación digital, que utiliza diferentes plataformas educativas para promover las habilidades digitales. \n",
    "\n",
    "- **Objetivo Principal**: Identificar las plataformas educativas más utilizadas por los aspirantes y beneficiarios, analizar la distribución por género y edad, y relacionar estos datos con su ubicación geográfica (municipio), con el fin de obtener una visión integral del impacto del programa de formación digital."
   ]
  },
  {
   "cell_type": "markdown",
   "metadata": {},
   "source": [
    "## **LIBRERIAS**"
   ]
  },
  {
   "cell_type": "code",
   "execution_count": 10,
   "metadata": {},
   "outputs": [
    {
     "name": "stdout",
     "output_type": "stream",
     "text": [
      "/Users/valentinafuentes/Bootcamp/REPO_BOOTCAMP\n"
     ]
    },
    {
     "data": {
      "text/plain": [
       "'Habilidades_digitales.csv'"
      ]
     },
     "execution_count": 10,
     "metadata": {},
     "output_type": "execute_result"
    }
   ],
   "source": [
    "import pandas as pd\n",
    "import os\n",
    "ruta= os.getcwd()\n",
    "print(ruta)\n",
    "file_name=[x for x in os.listdir() if 'Habilidades_' in x][0]\n",
    "file_name"
   ]
  },
  {
   "cell_type": "markdown",
   "metadata": {},
   "source": [
    "## **DATA EXTRACTION**"
   ]
  },
  {
   "cell_type": "code",
   "execution_count": 11,
   "metadata": {},
   "outputs": [
    {
     "data": {
      "text/html": [
       "<div>\n",
       "<style scoped>\n",
       "    .dataframe tbody tr th:only-of-type {\n",
       "        vertical-align: middle;\n",
       "    }\n",
       "\n",
       "    .dataframe tbody tr th {\n",
       "        vertical-align: top;\n",
       "    }\n",
       "\n",
       "    .dataframe thead th {\n",
       "        text-align: right;\n",
       "    }\n",
       "</style>\n",
       "<table border=\"1\" class=\"dataframe\">\n",
       "  <thead>\n",
       "    <tr style=\"text-align: right;\">\n",
       "      <th></th>\n",
       "      <th>FECHA_CORTE</th>\n",
       "      <th>DEPARTAMENTO</th>\n",
       "      <th>MUNICIPIO</th>\n",
       "      <th>GENERO</th>\n",
       "      <th>EDAD</th>\n",
       "      <th>CONVOCATORIA</th>\n",
       "      <th>ESTADOS</th>\n",
       "      <th>PLATAFORMA_EDUCATIVA</th>\n",
       "      <th>ESTADO_FORMACION</th>\n",
       "      <th>META_BENEFICIARIOS</th>\n",
       "      <th>META_DINERO</th>\n",
       "      <th>INVERSION</th>\n",
       "      <th>FECHA_VIGENCIA</th>\n",
       "    </tr>\n",
       "  </thead>\n",
       "  <tbody>\n",
       "    <tr>\n",
       "      <th>0</th>\n",
       "      <td>1900-01-01</td>\n",
       "      <td>RISARALDA</td>\n",
       "      <td>DOSQUEBRADAS</td>\n",
       "      <td>FEMENINO</td>\n",
       "      <td>47</td>\n",
       "      <td>ICETEX</td>\n",
       "      <td>ASPIRANTES</td>\n",
       "      <td>0</td>\n",
       "      <td>PENDIENTE CLASIFICAR</td>\n",
       "      <td>0</td>\n",
       "      <td>0</td>\n",
       "      <td>0</td>\n",
       "      <td>1900-01-01</td>\n",
       "    </tr>\n",
       "    <tr>\n",
       "      <th>1</th>\n",
       "      <td>2019-12-31</td>\n",
       "      <td>CUNDINAMARCA</td>\n",
       "      <td>ZIPAQUIRA</td>\n",
       "      <td>MASCULINO</td>\n",
       "      <td>31</td>\n",
       "      <td>ICETEX</td>\n",
       "      <td>BENEFICIARIO</td>\n",
       "      <td>COURSERA</td>\n",
       "      <td>GRADUADO</td>\n",
       "      <td>4413</td>\n",
       "      <td>9000000000</td>\n",
       "      <td>2039429</td>\n",
       "      <td>2019-12-31</td>\n",
       "    </tr>\n",
       "    <tr>\n",
       "      <th>2</th>\n",
       "      <td>2019-12-31</td>\n",
       "      <td>VALLE DEL CAUCA</td>\n",
       "      <td>CAICEDONIA</td>\n",
       "      <td>NO REGISTRA</td>\n",
       "      <td>0</td>\n",
       "      <td>TECNALIA</td>\n",
       "      <td>ASPIRANTES</td>\n",
       "      <td>EDX</td>\n",
       "      <td>PENDIENTE CLASIFICAR</td>\n",
       "      <td>0</td>\n",
       "      <td>0</td>\n",
       "      <td>0</td>\n",
       "      <td>2019-12-31</td>\n",
       "    </tr>\n",
       "    <tr>\n",
       "      <th>3</th>\n",
       "      <td>2019-12-31</td>\n",
       "      <td>CUNDINAMARCA</td>\n",
       "      <td>COTA</td>\n",
       "      <td>NO REGISTRA</td>\n",
       "      <td>0</td>\n",
       "      <td>TECNALIA</td>\n",
       "      <td>ASPIRANTES</td>\n",
       "      <td>COURSERA</td>\n",
       "      <td>PENDIENTE CLASIFICAR</td>\n",
       "      <td>0</td>\n",
       "      <td>0</td>\n",
       "      <td>0</td>\n",
       "      <td>2019-12-31</td>\n",
       "    </tr>\n",
       "    <tr>\n",
       "      <th>4</th>\n",
       "      <td>1900-01-01</td>\n",
       "      <td>NARIÑO</td>\n",
       "      <td>PASTO</td>\n",
       "      <td>FEMENINO</td>\n",
       "      <td>44</td>\n",
       "      <td>ICETEX</td>\n",
       "      <td>ASPIRANTES</td>\n",
       "      <td>0</td>\n",
       "      <td>PENDIENTE CLASIFICAR</td>\n",
       "      <td>0</td>\n",
       "      <td>0</td>\n",
       "      <td>0</td>\n",
       "      <td>1900-01-01</td>\n",
       "    </tr>\n",
       "    <tr>\n",
       "      <th>...</th>\n",
       "      <td>...</td>\n",
       "      <td>...</td>\n",
       "      <td>...</td>\n",
       "      <td>...</td>\n",
       "      <td>...</td>\n",
       "      <td>...</td>\n",
       "      <td>...</td>\n",
       "      <td>...</td>\n",
       "      <td>...</td>\n",
       "      <td>...</td>\n",
       "      <td>...</td>\n",
       "      <td>...</td>\n",
       "      <td>...</td>\n",
       "    </tr>\n",
       "    <tr>\n",
       "      <th>77914</th>\n",
       "      <td>1900-01-01</td>\n",
       "      <td>ANTIOQUIA</td>\n",
       "      <td>COPACABANA</td>\n",
       "      <td>MASCULINO</td>\n",
       "      <td>33</td>\n",
       "      <td>ICETEX</td>\n",
       "      <td>ASPIRANTES</td>\n",
       "      <td>0</td>\n",
       "      <td>PENDIENTE CLASIFICAR</td>\n",
       "      <td>0</td>\n",
       "      <td>0</td>\n",
       "      <td>0</td>\n",
       "      <td>1900-01-01</td>\n",
       "    </tr>\n",
       "    <tr>\n",
       "      <th>77915</th>\n",
       "      <td>1900-01-01</td>\n",
       "      <td>ANTIOQUIA</td>\n",
       "      <td>COPACABANA</td>\n",
       "      <td>MASCULINO</td>\n",
       "      <td>33</td>\n",
       "      <td>ICETEX</td>\n",
       "      <td>ASPIRANTES</td>\n",
       "      <td>0</td>\n",
       "      <td>PENDIENTE CLASIFICAR</td>\n",
       "      <td>0</td>\n",
       "      <td>0</td>\n",
       "      <td>0</td>\n",
       "      <td>1900-01-01</td>\n",
       "    </tr>\n",
       "    <tr>\n",
       "      <th>77916</th>\n",
       "      <td>1900-01-01</td>\n",
       "      <td>ANTIOQUIA</td>\n",
       "      <td>COPACABANA</td>\n",
       "      <td>MASCULINO</td>\n",
       "      <td>33</td>\n",
       "      <td>ICETEX</td>\n",
       "      <td>ASPIRANTES</td>\n",
       "      <td>0</td>\n",
       "      <td>PENDIENTE CLASIFICAR</td>\n",
       "      <td>0</td>\n",
       "      <td>0</td>\n",
       "      <td>0</td>\n",
       "      <td>1900-01-01</td>\n",
       "    </tr>\n",
       "    <tr>\n",
       "      <th>77917</th>\n",
       "      <td>1900-01-01</td>\n",
       "      <td>ANTIOQUIA</td>\n",
       "      <td>COPACABANA</td>\n",
       "      <td>MASCULINO</td>\n",
       "      <td>33</td>\n",
       "      <td>ICETEX</td>\n",
       "      <td>ASPIRANTES</td>\n",
       "      <td>0</td>\n",
       "      <td>PENDIENTE CLASIFICAR</td>\n",
       "      <td>0</td>\n",
       "      <td>0</td>\n",
       "      <td>0</td>\n",
       "      <td>1900-01-01</td>\n",
       "    </tr>\n",
       "    <tr>\n",
       "      <th>77918</th>\n",
       "      <td>1900-01-01</td>\n",
       "      <td>LA GUAJIRA</td>\n",
       "      <td>DISTRACCION</td>\n",
       "      <td>FEMENINO</td>\n",
       "      <td>30</td>\n",
       "      <td>ICETEX</td>\n",
       "      <td>ASPIRANTES</td>\n",
       "      <td>0</td>\n",
       "      <td>PENDIENTE CLASIFICAR</td>\n",
       "      <td>0</td>\n",
       "      <td>0</td>\n",
       "      <td>0</td>\n",
       "      <td>1900-01-01</td>\n",
       "    </tr>\n",
       "  </tbody>\n",
       "</table>\n",
       "<p>77919 rows × 13 columns</p>\n",
       "</div>"
      ],
      "text/plain": [
       "      FECHA_CORTE     DEPARTAMENTO     MUNICIPIO       GENERO  EDAD  \\\n",
       "0      1900-01-01        RISARALDA  DOSQUEBRADAS     FEMENINO    47   \n",
       "1      2019-12-31     CUNDINAMARCA     ZIPAQUIRA    MASCULINO    31   \n",
       "2      2019-12-31  VALLE DEL CAUCA    CAICEDONIA  NO REGISTRA     0   \n",
       "3      2019-12-31     CUNDINAMARCA          COTA  NO REGISTRA     0   \n",
       "4      1900-01-01           NARIÑO         PASTO     FEMENINO    44   \n",
       "...           ...              ...           ...          ...   ...   \n",
       "77914  1900-01-01        ANTIOQUIA    COPACABANA    MASCULINO    33   \n",
       "77915  1900-01-01        ANTIOQUIA    COPACABANA    MASCULINO    33   \n",
       "77916  1900-01-01        ANTIOQUIA    COPACABANA    MASCULINO    33   \n",
       "77917  1900-01-01        ANTIOQUIA    COPACABANA    MASCULINO    33   \n",
       "77918  1900-01-01       LA GUAJIRA   DISTRACCION     FEMENINO    30   \n",
       "\n",
       "      CONVOCATORIA       ESTADOS PLATAFORMA_EDUCATIVA      ESTADO_FORMACION  \\\n",
       "0           ICETEX    ASPIRANTES                    0  PENDIENTE CLASIFICAR   \n",
       "1           ICETEX  BENEFICIARIO             COURSERA              GRADUADO   \n",
       "2         TECNALIA    ASPIRANTES                  EDX  PENDIENTE CLASIFICAR   \n",
       "3         TECNALIA    ASPIRANTES             COURSERA  PENDIENTE CLASIFICAR   \n",
       "4           ICETEX    ASPIRANTES                    0  PENDIENTE CLASIFICAR   \n",
       "...            ...           ...                  ...                   ...   \n",
       "77914       ICETEX    ASPIRANTES                    0  PENDIENTE CLASIFICAR   \n",
       "77915       ICETEX    ASPIRANTES                    0  PENDIENTE CLASIFICAR   \n",
       "77916       ICETEX    ASPIRANTES                    0  PENDIENTE CLASIFICAR   \n",
       "77917       ICETEX    ASPIRANTES                    0  PENDIENTE CLASIFICAR   \n",
       "77918       ICETEX    ASPIRANTES                    0  PENDIENTE CLASIFICAR   \n",
       "\n",
       "       META_BENEFICIARIOS  META_DINERO  INVERSION FECHA_VIGENCIA  \n",
       "0                       0            0          0     1900-01-01  \n",
       "1                    4413   9000000000    2039429     2019-12-31  \n",
       "2                       0            0          0     2019-12-31  \n",
       "3                       0            0          0     2019-12-31  \n",
       "4                       0            0          0     1900-01-01  \n",
       "...                   ...          ...        ...            ...  \n",
       "77914                   0            0          0     1900-01-01  \n",
       "77915                   0            0          0     1900-01-01  \n",
       "77916                   0            0          0     1900-01-01  \n",
       "77917                   0            0          0     1900-01-01  \n",
       "77918                   0            0          0     1900-01-01  \n",
       "\n",
       "[77919 rows x 13 columns]"
      ]
     },
     "execution_count": 11,
     "metadata": {},
     "output_type": "execute_result"
    }
   ],
   "source": [
    "df=pd.read_csv(f\"{ruta}/{file_name}\",sep=\",\",encoding='utf-8')\n",
    "df"
   ]
  },
  {
   "cell_type": "code",
   "execution_count": 12,
   "metadata": {},
   "outputs": [
    {
     "data": {
      "text/plain": [
       "(77919, 13)"
      ]
     },
     "execution_count": 12,
     "metadata": {},
     "output_type": "execute_result"
    }
   ],
   "source": [
    "df.shape"
   ]
  },
  {
   "cell_type": "code",
   "execution_count": 13,
   "metadata": {},
   "outputs": [
    {
     "data": {
      "text/plain": [
       "Index(['FECHA_CORTE', 'DEPARTAMENTO', 'MUNICIPIO', 'GENERO', 'EDAD',\n",
       "       'CONVOCATORIA', 'ESTADOS', 'PLATAFORMA_EDUCATIVA', 'ESTADO_FORMACION',\n",
       "       'META_BENEFICIARIOS', 'META_DINERO', 'INVERSION', 'FECHA_VIGENCIA'],\n",
       "      dtype='object')"
      ]
     },
     "execution_count": 13,
     "metadata": {},
     "output_type": "execute_result"
    }
   ],
   "source": [
    "df.columns"
   ]
  },
  {
   "cell_type": "markdown",
   "metadata": {},
   "source": [
    "## **COLUMNAS DE INTERÉS**\n",
    "- **`MUNICIPIO`**: Indica la ubicacion geografica\n",
    "- **`GENERO`**: Muestra el genero de los participantes\n",
    "- **`EDAD`**: Muestra la edad de los participantes\n",
    "- **`ESTADOS`**: Indica si un participante es aspirante o beneficiario del programa\n",
    "- **`PLATAFORMA_EDUCATIVA`**: Indica la plataforma educativa que eligieron para desarrollar sus habilidades digitales"
   ]
  },
  {
   "cell_type": "code",
   "execution_count": 14,
   "metadata": {},
   "outputs": [
    {
     "data": {
      "text/plain": [
       "FECHA_CORTE             object\n",
       "DEPARTAMENTO            object\n",
       "MUNICIPIO               object\n",
       "GENERO                  object\n",
       "EDAD                     int64\n",
       "CONVOCATORIA            object\n",
       "ESTADOS                 object\n",
       "PLATAFORMA_EDUCATIVA    object\n",
       "ESTADO_FORMACION        object\n",
       "META_BENEFICIARIOS       int64\n",
       "META_DINERO              int64\n",
       "INVERSION                int64\n",
       "FECHA_VIGENCIA          object\n",
       "dtype: object"
      ]
     },
     "execution_count": 14,
     "metadata": {},
     "output_type": "execute_result"
    }
   ],
   "source": [
    "df.dtypes"
   ]
  },
  {
   "cell_type": "code",
   "execution_count": 15,
   "metadata": {},
   "outputs": [
    {
     "data": {
      "text/plain": [
       "PLATAFORMA_EDUCATIVA\n",
       "0                  57955\n",
       "PLATZI              9840\n",
       "COURSERA            5665\n",
       "EDX                 2535\n",
       "DATACAMP            1056\n",
       "MICROSOFT AZURE      553\n",
       "UDACITY              315\n",
       "Name: count, dtype: int64"
      ]
     },
     "execution_count": 15,
     "metadata": {},
     "output_type": "execute_result"
    }
   ],
   "source": [
    "df['PLATAFORMA_EDUCATIVA'].value_counts()"
   ]
  },
  {
   "cell_type": "code",
   "execution_count": 16,
   "metadata": {},
   "outputs": [
    {
     "data": {
      "text/plain": [
       "ESTADOS\n",
       "ASPIRANTES      68610\n",
       "BENEFICIARIO     9309\n",
       "Name: count, dtype: int64"
      ]
     },
     "execution_count": 16,
     "metadata": {},
     "output_type": "execute_result"
    }
   ],
   "source": [
    "df['ESTADOS'].value_counts()"
   ]
  },
  {
   "cell_type": "code",
   "execution_count": 8,
   "metadata": {},
   "outputs": [
    {
     "data": {
      "text/html": [
       "<div>\n",
       "<style scoped>\n",
       "    .dataframe tbody tr th:only-of-type {\n",
       "        vertical-align: middle;\n",
       "    }\n",
       "\n",
       "    .dataframe tbody tr th {\n",
       "        vertical-align: top;\n",
       "    }\n",
       "\n",
       "    .dataframe thead th {\n",
       "        text-align: right;\n",
       "    }\n",
       "</style>\n",
       "<table border=\"1\" class=\"dataframe\">\n",
       "  <thead>\n",
       "    <tr style=\"text-align: right;\">\n",
       "      <th></th>\n",
       "      <th>FECHA_CORTE</th>\n",
       "      <th>DEPARTAMENTO</th>\n",
       "      <th>MUNICIPIO</th>\n",
       "      <th>GENERO</th>\n",
       "      <th>EDAD</th>\n",
       "      <th>CONVOCATORIA</th>\n",
       "      <th>ESTADOS</th>\n",
       "      <th>PLATAFORMA_EDUCATIVA</th>\n",
       "      <th>ESTADO_FORMACION</th>\n",
       "      <th>META_BENEFICIARIOS</th>\n",
       "      <th>META_DINERO</th>\n",
       "      <th>INVERSION</th>\n",
       "      <th>FECHA_VIGENCIA</th>\n",
       "    </tr>\n",
       "  </thead>\n",
       "  <tbody>\n",
       "    <tr>\n",
       "      <th>1</th>\n",
       "      <td>2019-12-31</td>\n",
       "      <td>CUNDINAMARCA</td>\n",
       "      <td>ZIPAQUIRA</td>\n",
       "      <td>MASCULINO</td>\n",
       "      <td>31</td>\n",
       "      <td>ICETEX</td>\n",
       "      <td>BENEFICIARIO</td>\n",
       "      <td>COURSERA</td>\n",
       "      <td>GRADUADO</td>\n",
       "      <td>4413</td>\n",
       "      <td>9000000000</td>\n",
       "      <td>2039429</td>\n",
       "      <td>2019-12-31</td>\n",
       "    </tr>\n",
       "    <tr>\n",
       "      <th>25</th>\n",
       "      <td>2019-12-31</td>\n",
       "      <td>NARIÑO</td>\n",
       "      <td>PASTO</td>\n",
       "      <td>MASCULINO</td>\n",
       "      <td>40</td>\n",
       "      <td>ICETEX</td>\n",
       "      <td>BENEFICIARIO</td>\n",
       "      <td>DATACAMP</td>\n",
       "      <td>GRADUADO</td>\n",
       "      <td>4413</td>\n",
       "      <td>9000000000</td>\n",
       "      <td>2039429</td>\n",
       "      <td>2019-12-31</td>\n",
       "    </tr>\n",
       "    <tr>\n",
       "      <th>46</th>\n",
       "      <td>2019-12-31</td>\n",
       "      <td>VALLE DEL CAUCA</td>\n",
       "      <td>YUMBO</td>\n",
       "      <td>MASCULINO</td>\n",
       "      <td>28</td>\n",
       "      <td>ICETEX</td>\n",
       "      <td>BENEFICIARIO</td>\n",
       "      <td>PLATZI</td>\n",
       "      <td>GRADUADO</td>\n",
       "      <td>4413</td>\n",
       "      <td>9000000000</td>\n",
       "      <td>2039429</td>\n",
       "      <td>2019-12-31</td>\n",
       "    </tr>\n",
       "    <tr>\n",
       "      <th>201</th>\n",
       "      <td>2019-12-31</td>\n",
       "      <td>ANTIOQUIA</td>\n",
       "      <td>SABANETA</td>\n",
       "      <td>FEMENINO</td>\n",
       "      <td>35</td>\n",
       "      <td>ICETEX</td>\n",
       "      <td>BENEFICIARIO</td>\n",
       "      <td>MICROSOFT AZURE</td>\n",
       "      <td>GRADUADO</td>\n",
       "      <td>4413</td>\n",
       "      <td>9000000000</td>\n",
       "      <td>2039429</td>\n",
       "      <td>2019-12-31</td>\n",
       "    </tr>\n",
       "    <tr>\n",
       "      <th>232</th>\n",
       "      <td>2019-12-31</td>\n",
       "      <td>ANTIOQUIA</td>\n",
       "      <td>SABANETA</td>\n",
       "      <td>MASCULINO</td>\n",
       "      <td>35</td>\n",
       "      <td>ICETEX</td>\n",
       "      <td>BENEFICIARIO</td>\n",
       "      <td>PLATZI</td>\n",
       "      <td>GRADUADO</td>\n",
       "      <td>4413</td>\n",
       "      <td>9000000000</td>\n",
       "      <td>2039429</td>\n",
       "      <td>2019-12-31</td>\n",
       "    </tr>\n",
       "    <tr>\n",
       "      <th>...</th>\n",
       "      <td>...</td>\n",
       "      <td>...</td>\n",
       "      <td>...</td>\n",
       "      <td>...</td>\n",
       "      <td>...</td>\n",
       "      <td>...</td>\n",
       "      <td>...</td>\n",
       "      <td>...</td>\n",
       "      <td>...</td>\n",
       "      <td>...</td>\n",
       "      <td>...</td>\n",
       "      <td>...</td>\n",
       "      <td>...</td>\n",
       "    </tr>\n",
       "    <tr>\n",
       "      <th>77890</th>\n",
       "      <td>2019-12-31</td>\n",
       "      <td>BOYACA</td>\n",
       "      <td>SOGAMOSO</td>\n",
       "      <td>MASCULINO</td>\n",
       "      <td>51</td>\n",
       "      <td>ICETEX</td>\n",
       "      <td>BENEFICIARIO</td>\n",
       "      <td>COURSERA</td>\n",
       "      <td>GRADUADO</td>\n",
       "      <td>4413</td>\n",
       "      <td>9000000000</td>\n",
       "      <td>2039429</td>\n",
       "      <td>2019-12-31</td>\n",
       "    </tr>\n",
       "    <tr>\n",
       "      <th>77897</th>\n",
       "      <td>2019-12-31</td>\n",
       "      <td>ATLANTICO</td>\n",
       "      <td>BARRANQUILLA</td>\n",
       "      <td>MASCULINO</td>\n",
       "      <td>34</td>\n",
       "      <td>ICETEX</td>\n",
       "      <td>BENEFICIARIO</td>\n",
       "      <td>UDACITY</td>\n",
       "      <td>GRADUADO</td>\n",
       "      <td>4413</td>\n",
       "      <td>9000000000</td>\n",
       "      <td>2039429</td>\n",
       "      <td>2019-12-31</td>\n",
       "    </tr>\n",
       "    <tr>\n",
       "      <th>77905</th>\n",
       "      <td>2019-12-31</td>\n",
       "      <td>VALLE DEL CAUCA</td>\n",
       "      <td>ROLDANILLO</td>\n",
       "      <td>MASCULINO</td>\n",
       "      <td>55</td>\n",
       "      <td>ICETEX</td>\n",
       "      <td>BENEFICIARIO</td>\n",
       "      <td>UDACITY</td>\n",
       "      <td>GRADUADO</td>\n",
       "      <td>4413</td>\n",
       "      <td>9000000000</td>\n",
       "      <td>2039429</td>\n",
       "      <td>2019-12-31</td>\n",
       "    </tr>\n",
       "    <tr>\n",
       "      <th>77907</th>\n",
       "      <td>2019-12-31</td>\n",
       "      <td>BOGOTA</td>\n",
       "      <td>BOGOTA, D.C.</td>\n",
       "      <td>MASCULINO</td>\n",
       "      <td>45</td>\n",
       "      <td>ICETEX</td>\n",
       "      <td>BENEFICIARIO</td>\n",
       "      <td>MICROSOFT AZURE</td>\n",
       "      <td>GRADUADO</td>\n",
       "      <td>4413</td>\n",
       "      <td>9000000000</td>\n",
       "      <td>2039429</td>\n",
       "      <td>2019-12-31</td>\n",
       "    </tr>\n",
       "    <tr>\n",
       "      <th>77908</th>\n",
       "      <td>2019-12-31</td>\n",
       "      <td>CUNDINAMARCA</td>\n",
       "      <td>SOACHA</td>\n",
       "      <td>FEMENINO</td>\n",
       "      <td>33</td>\n",
       "      <td>ICETEX</td>\n",
       "      <td>BENEFICIARIO</td>\n",
       "      <td>COURSERA</td>\n",
       "      <td>GRADUADO</td>\n",
       "      <td>4413</td>\n",
       "      <td>9000000000</td>\n",
       "      <td>2039429</td>\n",
       "      <td>2019-12-31</td>\n",
       "    </tr>\n",
       "  </tbody>\n",
       "</table>\n",
       "<p>9309 rows × 13 columns</p>\n",
       "</div>"
      ],
      "text/plain": [
       "      FECHA_CORTE     DEPARTAMENTO     MUNICIPIO     GENERO  EDAD  \\\n",
       "1      2019-12-31     CUNDINAMARCA     ZIPAQUIRA  MASCULINO    31   \n",
       "25     2019-12-31           NARIÑO         PASTO  MASCULINO    40   \n",
       "46     2019-12-31  VALLE DEL CAUCA         YUMBO  MASCULINO    28   \n",
       "201    2019-12-31        ANTIOQUIA      SABANETA   FEMENINO    35   \n",
       "232    2019-12-31        ANTIOQUIA      SABANETA  MASCULINO    35   \n",
       "...           ...              ...           ...        ...   ...   \n",
       "77890  2019-12-31           BOYACA      SOGAMOSO  MASCULINO    51   \n",
       "77897  2019-12-31        ATLANTICO  BARRANQUILLA  MASCULINO    34   \n",
       "77905  2019-12-31  VALLE DEL CAUCA    ROLDANILLO  MASCULINO    55   \n",
       "77907  2019-12-31           BOGOTA  BOGOTA, D.C.  MASCULINO    45   \n",
       "77908  2019-12-31     CUNDINAMARCA        SOACHA   FEMENINO    33   \n",
       "\n",
       "      CONVOCATORIA       ESTADOS PLATAFORMA_EDUCATIVA ESTADO_FORMACION  \\\n",
       "1           ICETEX  BENEFICIARIO             COURSERA         GRADUADO   \n",
       "25          ICETEX  BENEFICIARIO             DATACAMP         GRADUADO   \n",
       "46          ICETEX  BENEFICIARIO               PLATZI         GRADUADO   \n",
       "201         ICETEX  BENEFICIARIO      MICROSOFT AZURE         GRADUADO   \n",
       "232         ICETEX  BENEFICIARIO               PLATZI         GRADUADO   \n",
       "...            ...           ...                  ...              ...   \n",
       "77890       ICETEX  BENEFICIARIO             COURSERA         GRADUADO   \n",
       "77897       ICETEX  BENEFICIARIO              UDACITY         GRADUADO   \n",
       "77905       ICETEX  BENEFICIARIO              UDACITY         GRADUADO   \n",
       "77907       ICETEX  BENEFICIARIO      MICROSOFT AZURE         GRADUADO   \n",
       "77908       ICETEX  BENEFICIARIO             COURSERA         GRADUADO   \n",
       "\n",
       "       META_BENEFICIARIOS  META_DINERO  INVERSION FECHA_VIGENCIA  \n",
       "1                    4413   9000000000    2039429     2019-12-31  \n",
       "25                   4413   9000000000    2039429     2019-12-31  \n",
       "46                   4413   9000000000    2039429     2019-12-31  \n",
       "201                  4413   9000000000    2039429     2019-12-31  \n",
       "232                  4413   9000000000    2039429     2019-12-31  \n",
       "...                   ...          ...        ...            ...  \n",
       "77890                4413   9000000000    2039429     2019-12-31  \n",
       "77897                4413   9000000000    2039429     2019-12-31  \n",
       "77905                4413   9000000000    2039429     2019-12-31  \n",
       "77907                4413   9000000000    2039429     2019-12-31  \n",
       "77908                4413   9000000000    2039429     2019-12-31  \n",
       "\n",
       "[9309 rows x 13 columns]"
      ]
     },
     "execution_count": 8,
     "metadata": {},
     "output_type": "execute_result"
    }
   ],
   "source": [
    "filter=df[df['ESTADOS']=='BENEFICIARIO']\n",
    "filter"
   ]
  },
  {
   "cell_type": "markdown",
   "metadata": {},
   "source": [
    "## **VISUALIZACIONES**\n"
   ]
  },
  {
   "cell_type": "markdown",
   "metadata": {},
   "source": [
    "### **MATPLOTLIB**"
   ]
  },
  {
   "cell_type": "code",
   "execution_count": 81,
   "metadata": {},
   "outputs": [
    {
     "name": "stdout",
     "output_type": "stream",
     "text": [
      "Name: matplotlib\n",
      "Version: 3.9.4\n",
      "Summary: Python plotting package\n",
      "Home-page: \n",
      "Author: John D. Hunter, Michael Droettboom\n",
      "Author-email: Unknown <matplotlib-users@python.org>\n",
      "License: License agreement for matplotlib versions 1.3.0 and later\n",
      "         =========================================================\n",
      "         \n",
      "         1. This LICENSE AGREEMENT is between the Matplotlib Development Team\n",
      "         (\"MDT\"), and the Individual or Organization (\"Licensee\") accessing and\n",
      "         otherwise using matplotlib software in source or binary form and its\n",
      "         associated documentation.\n",
      "         \n",
      "         2. Subject to the terms and conditions of this License Agreement, MDT\n",
      "         hereby grants Licensee a nonexclusive, royalty-free, world-wide license\n",
      "         to reproduce, analyze, test, perform and/or display publicly, prepare\n",
      "         derivative works, distribute, and otherwise use matplotlib\n",
      "         alone or in any derivative version, provided, however, that MDT's\n",
      "         License Agreement and MDT's notice of copyright, i.e., \"Copyright (c)\n",
      "         2012- Matplotlib Development Team; All Rights Reserved\" are retained in\n",
      "         matplotlib  alone or in any derivative version prepared by\n",
      "         Licensee.\n",
      "         \n",
      "         3. In the event Licensee prepares a derivative work that is based on or\n",
      "         incorporates matplotlib or any part thereof, and wants to\n",
      "         make the derivative work available to others as provided herein, then\n",
      "         Licensee hereby agrees to include in any such work a brief summary of\n",
      "         the changes made to matplotlib .\n",
      "         \n",
      "         4. MDT is making matplotlib available to Licensee on an \"AS\n",
      "         IS\" basis.  MDT MAKES NO REPRESENTATIONS OR WARRANTIES, EXPRESS OR\n",
      "         IMPLIED.  BY WAY OF EXAMPLE, BUT NOT LIMITATION, MDT MAKES NO AND\n",
      "         DISCLAIMS ANY REPRESENTATION OR WARRANTY OF MERCHANTABILITY OR FITNESS\n",
      "         FOR ANY PARTICULAR PURPOSE OR THAT THE USE OF MATPLOTLIB\n",
      "         WILL NOT INFRINGE ANY THIRD PARTY RIGHTS.\n",
      "         \n",
      "         5. MDT SHALL NOT BE LIABLE TO LICENSEE OR ANY OTHER USERS OF MATPLOTLIB\n",
      "          FOR ANY INCIDENTAL, SPECIAL, OR CONSEQUENTIAL DAMAGES OR\n",
      "         LOSS AS A RESULT OF MODIFYING, DISTRIBUTING, OR OTHERWISE USING\n",
      "         MATPLOTLIB , OR ANY DERIVATIVE THEREOF, EVEN IF ADVISED OF\n",
      "         THE POSSIBILITY THEREOF.\n",
      "         \n",
      "         6. This License Agreement will automatically terminate upon a material\n",
      "         breach of its terms and conditions.\n",
      "         \n",
      "         7. Nothing in this License Agreement shall be deemed to create any\n",
      "         relationship of agency, partnership, or joint venture between MDT and\n",
      "         Licensee.  This License Agreement does not grant permission to use MDT\n",
      "         trademarks or trade name in a trademark sense to endorse or promote\n",
      "         products or services of Licensee, or any third party.\n",
      "         \n",
      "         8. By copying, installing or otherwise using matplotlib ,\n",
      "         Licensee agrees to be bound by the terms and conditions of this License\n",
      "         Agreement.\n",
      "         \n",
      "         License agreement for matplotlib versions prior to 1.3.0\n",
      "         ========================================================\n",
      "         \n",
      "         1. This LICENSE AGREEMENT is between John D. Hunter (\"JDH\"), and the\n",
      "         Individual or Organization (\"Licensee\") accessing and otherwise using\n",
      "         matplotlib software in source or binary form and its associated\n",
      "         documentation.\n",
      "         \n",
      "         2. Subject to the terms and conditions of this License Agreement, JDH\n",
      "         hereby grants Licensee a nonexclusive, royalty-free, world-wide license\n",
      "         to reproduce, analyze, test, perform and/or display publicly, prepare\n",
      "         derivative works, distribute, and otherwise use matplotlib\n",
      "         alone or in any derivative version, provided, however, that JDH's\n",
      "         License Agreement and JDH's notice of copyright, i.e., \"Copyright (c)\n",
      "         2002-2011 John D. Hunter; All Rights Reserved\" are retained in\n",
      "         matplotlib  alone or in any derivative version prepared by\n",
      "         Licensee.\n",
      "         \n",
      "         3. In the event Licensee prepares a derivative work that is based on or\n",
      "         incorporates matplotlib  or any part thereof, and wants to\n",
      "         make the derivative work available to others as provided herein, then\n",
      "         Licensee hereby agrees to include in any such work a brief summary of\n",
      "         the changes made to matplotlib.\n",
      "         \n",
      "         4. JDH is making matplotlib  available to Licensee on an \"AS\n",
      "         IS\" basis.  JDH MAKES NO REPRESENTATIONS OR WARRANTIES, EXPRESS OR\n",
      "         IMPLIED.  BY WAY OF EXAMPLE, BUT NOT LIMITATION, JDH MAKES NO AND\n",
      "         DISCLAIMS ANY REPRESENTATION OR WARRANTY OF MERCHANTABILITY OR FITNESS\n",
      "         FOR ANY PARTICULAR PURPOSE OR THAT THE USE OF MATPLOTLIB\n",
      "         WILL NOT INFRINGE ANY THIRD PARTY RIGHTS.\n",
      "         \n",
      "         5. JDH SHALL NOT BE LIABLE TO LICENSEE OR ANY OTHER USERS OF MATPLOTLIB\n",
      "          FOR ANY INCIDENTAL, SPECIAL, OR CONSEQUENTIAL DAMAGES OR\n",
      "         LOSS AS A RESULT OF MODIFYING, DISTRIBUTING, OR OTHERWISE USING\n",
      "         MATPLOTLIB , OR ANY DERIVATIVE THEREOF, EVEN IF ADVISED OF\n",
      "         THE POSSIBILITY THEREOF.\n",
      "         \n",
      "         6. This License Agreement will automatically terminate upon a material\n",
      "         breach of its terms and conditions.\n",
      "         \n",
      "         7. Nothing in this License Agreement shall be deemed to create any\n",
      "         relationship of agency, partnership, or joint venture between JDH and\n",
      "         Licensee.  This License Agreement does not grant permission to use JDH\n",
      "         trademarks or trade name in a trademark sense to endorse or promote\n",
      "         products or services of Licensee, or any third party.\n",
      "         \n",
      "         8. By copying, installing or otherwise using matplotlib,\n",
      "         Licensee agrees to be bound by the terms and conditions of this License\n",
      "         Agreement.\n",
      "Location: /Users/valentinafuentes/Library/Python/3.9/lib/python/site-packages\n",
      "Requires: kiwisolver, cycler, pyparsing, fonttools, numpy, contourpy, packaging, importlib-resources, python-dateutil, pillow\n",
      "Required-by: \n"
     ]
    }
   ],
   "source": [
    "!python3 -m pip show matplotlib"
   ]
  },
  {
   "cell_type": "code",
   "execution_count": 20,
   "metadata": {},
   "outputs": [],
   "source": [
    "import matplotlib as mpl\n",
    "import matplotlib.pyplot as plt"
   ]
  },
  {
   "cell_type": "code",
   "execution_count": 23,
   "metadata": {},
   "outputs": [
    {
     "data": {
      "text/plain": [
       "['Solarize_Light2',\n",
       " '_classic_test_patch',\n",
       " '_mpl-gallery',\n",
       " '_mpl-gallery-nogrid',\n",
       " 'bmh',\n",
       " 'classic',\n",
       " 'dark_background',\n",
       " 'fast',\n",
       " 'fivethirtyeight',\n",
       " 'ggplot',\n",
       " 'grayscale',\n",
       " 'seaborn-v0_8',\n",
       " 'seaborn-v0_8-bright',\n",
       " 'seaborn-v0_8-colorblind',\n",
       " 'seaborn-v0_8-dark',\n",
       " 'seaborn-v0_8-dark-palette',\n",
       " 'seaborn-v0_8-darkgrid',\n",
       " 'seaborn-v0_8-deep',\n",
       " 'seaborn-v0_8-muted',\n",
       " 'seaborn-v0_8-notebook',\n",
       " 'seaborn-v0_8-paper',\n",
       " 'seaborn-v0_8-pastel',\n",
       " 'seaborn-v0_8-poster',\n",
       " 'seaborn-v0_8-talk',\n",
       " 'seaborn-v0_8-ticks',\n",
       " 'seaborn-v0_8-white',\n",
       " 'seaborn-v0_8-whitegrid',\n",
       " 'tableau-colorblind10']"
      ]
     },
     "execution_count": 23,
     "metadata": {},
     "output_type": "execute_result"
    }
   ],
   "source": [
    "mpl.style.available"
   ]
  },
  {
   "cell_type": "code",
   "execution_count": 92,
   "metadata": {},
   "outputs": [
    {
     "data": {
      "text/plain": [
       "Text(0.5, 1.0, 'Piechart de distribución de género')"
      ]
     },
     "execution_count": 92,
     "metadata": {},
     "output_type": "execute_result"
    },
    {
     "data": {
      "image/png": "[encoded data removed]",
      "text/plain": [
       "<Figure size 500x500 with 1 Axes>"
      ]
     },
     "metadata": {},
     "output_type": "display_data"
    }
   ],
   "source": [
    "# PIE CHART GÉNERO DE LAS PERSONAS QUE SE POSTULARON A LA CONVOCATORIA (ASPIRANTES Y BENEFICIARIOS)\n",
    "data = df['GENERO'].value_counts()\n",
    "mpl.style.use('_classic_test_patch')\n",
    "fig,ax = plt.subplots(figsize =(5, 5))\n",
    "ax.pie(data, labels=data.index, autopct='%1.1f%%')\n",
    "ax.set_title('Piechart de distribución de género')"
   ]
  },
  {
   "cell_type": "code",
   "execution_count": 93,
   "metadata": {},
   "outputs": [
    {
     "data": {
      "text/plain": [
       "Text(0, 0.5, 'Cantidad')"
      ]
     },
     "execution_count": 93,
     "metadata": {},
     "output_type": "execute_result"
    },
    {
     "data": {
      "image/png": "[encoded data removed]",
      "text/plain": [
       "<Figure size 600x600 with 1 Axes>"
      ]
     },
     "metadata": {},
     "output_type": "display_data"
    }
   ],
   "source": [
    "# PIE CHART GÉNERO DE LAS PERSONAS BENEFICIADAS POR LA CONVOCATORIA\n",
    "filter=df[df['ESTADOS']=='BENEFICIARIO']\n",
    "data=filter['GENERO'].value_counts()\n",
    "plt.style.use('_classic_test_patch')\n",
    "fig, ax = plt.subplots(figsize=(6, 6))\n",
    "ax.bar(data.index, data.values, color='skyblue')\n",
    "ax.set_title('Distribución de Género para Beneficiarios', fontsize=14)\n",
    "ax.set_xlabel('Género', fontsize=12)\n",
    "ax.set_ylabel('Cantidad', fontsize=12)"
   ]
  },
  {
   "cell_type": "markdown",
   "metadata": {},
   "source": [
    "edad de los beneficiados: donde se centra más, puede ser con un grafico de dispersion\n",
    "plataforma de educación más usada\n",
    "municipio más popular en la convocatoria"
   ]
  },
  {
   "cell_type": "markdown",
   "metadata": {},
   "source": [
    "### **SEABORN**"
   ]
  },
  {
   "cell_type": "code",
   "execution_count": 102,
   "metadata": {},
   "outputs": [
    {
     "name": "stdout",
     "output_type": "stream",
     "text": [
      "Name: seaborn\n",
      "Version: 0.13.2\n",
      "Summary: Statistical data visualization\n",
      "Home-page: \n",
      "Author: \n",
      "Author-email: Michael Waskom <mwaskom@gmail.com>\n",
      "License: \n",
      "Location: /Users/valentinafuentes/Library/Python/3.9/lib/python/site-packages\n",
      "Requires: matplotlib, numpy, pandas\n",
      "Required-by: \n"
     ]
    }
   ],
   "source": [
    "!python3 -m pip show seaborn"
   ]
  }
 ],
 "metadata": {
  "kernelspec": {
   "display_name": "Python 3",
   "language": "python",
   "name": "python3"
  },
  "language_info": {
   "codemirror_mode": {
    "name": "ipython",
    "version": 3
   },
   "file_extension": ".py",
   "mimetype": "text/x-python",
   "name": "python",
   "nbconvert_exporter": "python",
   "pygments_lexer": "ipython3",
   "version": "3.9.6"
  },
  "orig_nbformat": 4
 },
 "nbformat": 4,
 "nbformat_minor": 2
}
